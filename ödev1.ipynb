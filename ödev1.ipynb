{
 "cells": [
  {
   "cell_type": "code",
   "execution_count": 1,
   "metadata": {},
   "outputs": [],
   "source": [
    "anapara = 1000 "
   ]
  },
  {
   "cell_type": "code",
   "execution_count": 2,
   "metadata": {},
   "outputs": [
    {
     "name": "stdout",
     "output_type": "stream",
     "text": [
      "Birinci günün sonunda anapara = 1120.0\n"
     ]
    }
   ],
   "source": [
    "print('Birinci günün sonunda anapara =',anapara*1.12,)"
   ]
  },
  {
   "cell_type": "code",
   "execution_count": 3,
   "metadata": {},
   "outputs": [],
   "source": [
    "anapara_1 = 1120"
   ]
  },
  {
   "cell_type": "code",
   "execution_count": 4,
   "metadata": {},
   "outputs": [
    {
     "name": "stdout",
     "output_type": "stream",
     "text": [
      "İkinci günün sonunda anapara = 1254.4\n"
     ]
    }
   ],
   "source": [
    "print('İkinci günün sonunda anapara =',anapara_1*1.12)"
   ]
  },
  {
   "cell_type": "code",
   "execution_count": 5,
   "metadata": {},
   "outputs": [],
   "source": [
    "anapara_2 = 1254.4"
   ]
  },
  {
   "cell_type": "code",
   "execution_count": 6,
   "metadata": {},
   "outputs": [
    {
     "name": "stdout",
     "output_type": "stream",
     "text": [
      "Üçüncü günün sonunda anapara = 1404.9280000000003\n"
     ]
    }
   ],
   "source": [
    "print('Üçüncü günün sonunda anapara =',anapara_2*1.12)"
   ]
  },
  {
   "cell_type": "code",
   "execution_count": 7,
   "metadata": {},
   "outputs": [],
   "source": [
    "anapara_3 = 1404.928"
   ]
  },
  {
   "cell_type": "code",
   "execution_count": 8,
   "metadata": {},
   "outputs": [
    {
     "name": "stdout",
     "output_type": "stream",
     "text": [
      "Dördüncü günün sonunda anapara = 1573.5193600000002\n"
     ]
    }
   ],
   "source": [
    "print('Dördüncü günün sonunda anapara =',anapara_3*1.12)"
   ]
  },
  {
   "cell_type": "code",
   "execution_count": 9,
   "metadata": {},
   "outputs": [],
   "source": [
    "anapara_4 = 1573.519"
   ]
  },
  {
   "cell_type": "code",
   "execution_count": 10,
   "metadata": {},
   "outputs": [
    {
     "name": "stdout",
     "output_type": "stream",
     "text": [
      "Beşinci günün sonunda anapara = 1762.34128\n"
     ]
    }
   ],
   "source": [
    "print('Beşinci günün sonunda anapara =',anapara_4*1.12)"
   ]
  },
  {
   "cell_type": "code",
   "execution_count": 11,
   "metadata": {},
   "outputs": [],
   "source": [
    "anapara_5 = 1762.341"
   ]
  },
  {
   "cell_type": "code",
   "execution_count": 12,
   "metadata": {},
   "outputs": [
    {
     "name": "stdout",
     "output_type": "stream",
     "text": [
      "Altıncı günün sonunda anapara = 1973.82192\n"
     ]
    }
   ],
   "source": [
    "print('Altıncı günün sonunda anapara =',anapara_5*1.12)"
   ]
  },
  {
   "cell_type": "code",
   "execution_count": 13,
   "metadata": {},
   "outputs": [],
   "source": [
    "anapara_6 = 1973.822"
   ]
  },
  {
   "cell_type": "code",
   "execution_count": 14,
   "metadata": {},
   "outputs": [
    {
     "name": "stdout",
     "output_type": "stream",
     "text": [
      "Yedinci günün sonunda anapara = 2210.68064\n"
     ]
    }
   ],
   "source": [
    "print('Yedinci günün sonunda anapara =',anapara_6*1.12)"
   ]
  },
  {
   "cell_type": "code",
   "execution_count": 15,
   "metadata": {},
   "outputs": [],
   "source": [
    "anapara_7 = 2210.681 "
   ]
  },
  {
   "cell_type": "code",
   "execution_count": 16,
   "metadata": {},
   "outputs": [
    {
     "name": "stdout",
     "output_type": "stream",
     "text": [
      "Bir hafta sonunda kazanılan para = 1210.681\n"
     ]
    }
   ],
   "source": [
    "print('Bir hafta sonunda kazanılan para =',anapara_7-anapara)"
   ]
  },
  {
   "cell_type": "code",
   "execution_count": 17,
   "metadata": {},
   "outputs": [
    {
     "name": "stdout",
     "output_type": "stream",
     "text": [
      "Hafta başında 1000 dolarlık bitcoin aldığımızda günde ortalama %12 kazançla,\n",
      "bir hafta sonunda 1210.68 dolar kazanırdık\n"
     ]
    }
   ],
   "source": [
    "print('Hafta başında 1000 dolarlık bitcoin aldığımızda günde ortalama %12 kazançla,')\n",
    "print('bir hafta sonunda 1210.68 dolar kazanırdık')"
   ]
  },
  {
   "cell_type": "code",
   "execution_count": 18,
   "metadata": {},
   "outputs": [
    {
     "name": "stdout",
     "output_type": "stream",
     "text": [
      "Dosya Adı :fatih\n",
      "Dosya Adı : fatih.py\n"
     ]
    }
   ],
   "source": [
    "ad = input('Dosya Adı :')\n",
    "print(\"Dosya Adı : {}.py\".format(ad))"
   ]
  },
  {
   "cell_type": "code",
   "execution_count": null,
   "metadata": {},
   "outputs": [],
   "source": []
  }
 ],
 "metadata": {
  "kernelspec": {
   "display_name": "Python 3",
   "language": "python",
   "name": "python3"
  },
  "language_info": {
   "codemirror_mode": {
    "name": "ipython",
    "version": 3
   },
   "file_extension": ".py",
   "mimetype": "text/x-python",
   "name": "python",
   "nbconvert_exporter": "python",
   "pygments_lexer": "ipython3",
   "version": "3.7.1"
  }
 },
 "nbformat": 4,
 "nbformat_minor": 2
}
